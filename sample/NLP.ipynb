{
 "cells": [
  {
   "cell_type": "code",
   "execution_count": 1,
   "id": "81d24714",
   "metadata": {},
   "outputs": [],
   "source": [
    "#pip install SpeechRecognition\n",
    "#pip install pyaudio\n",
    "#pip install --user -U nltk"
   ]
  },
  {
   "cell_type": "code",
   "execution_count": 25,
   "id": "d5e63503",
   "metadata": {},
   "outputs": [
    {
     "name": "stdout",
     "output_type": "stream",
     "text": [
      "Speak...\n",
      "You said: I am very much over joint\n",
      "You said: I am feeling lonely can you suggest me some songs\n",
      "You said: had a bad day with frustrated\n",
      "You said: the weather is good\n",
      "You said: I want to hear some awesome songs\n"
     ]
    }
   ],
   "source": [
    "import speech_recognition as sr\n",
    "import numpy as np\n",
    "\n",
    "# Initialize recognizer\n",
    "r = sr.Recognizer()\n",
    "\n",
    "# Use microphone as source\n",
    "with sr.Microphone() as source:\n",
    "\n",
    "    # Set energy threshold to ambient noise level\n",
    "    r.energy_threshold = 300\n",
    "\n",
    "    # Dynamic energy threshold adjustment\n",
    "    r.dynamic_energy_threshold = True\n",
    "    r.dynamic_energy_adjustment_ratio = 1.5\n",
    "\n",
    "    # Set minimum pause length\n",
    "    r.pause_threshold = 0.5\n",
    "\n",
    "    # Non-speaking duration\n",
    "    r.non_speaking_duration = 0.3\n",
    "\n",
    "    # Max time for listening\n",
    "    r.operation_timeout = None\n",
    "\n",
    "    # Phrase threshold\n",
    "    r.phrase_threshold = 0.3\n",
    "\n",
    "    # Max time for a phrase\n",
    "    r.max_silence = 1\n",
    "\n",
    "    # Calibrate the energy threshold\n",
    "    r.adjust_for_ambient_noise(source, duration=0.5)\n",
    "\n",
    "    # Print statement to prompt user to speak\n",
    "    print(\"Speak...\")\n",
    "\n",
    "    # Listen to microphone and convert speech to text\n",
    "    o = []\n",
    "    for i in range(5):\n",
    "        try:\n",
    "            # Capture the audio\n",
    "            audio = r.listen(source, phrase_time_limit=5)\n",
    "\n",
    "            # Convert speech to text\n",
    "            output = r.recognize_google(audio,language=  \"EN_US\")\n",
    "\n",
    "            # Print the recognized text\n",
    "            print(\"You said: \" + output)\n",
    "            o.append(output)\n",
    "\n",
    "        except sr.UnknownValueError:\n",
    "            # If the speech cannot be recognized\n",
    "            print(\"Could not understand audio\")\n",
    "\n",
    "        except sr.RequestError as e:\n",
    "            # If there is an error from the API\n",
    "            print(\"Error: {0}\".format(e))\n",
    "  \n"
   ]
  },
  {
   "cell_type": "code",
   "execution_count": null,
   "id": "1b6f5753",
   "metadata": {},
   "outputs": [],
   "source": [
    "I am very much overjoyed\n",
    "i am feeling lonely can you suggest some songs\n",
    "had a bad day bit frustrated\n",
    "The weather is good\n",
    "I want hear some awesome songs"
   ]
  },
  {
   "cell_type": "code",
   "execution_count": 26,
   "id": "7f5e888c",
   "metadata": {},
   "outputs": [],
   "source": [
    "import nltk\n",
    "from nltk.sentiment import SentimentIntensityAnalyzer\n",
    "from nltk.tokenize import word_tokenize"
   ]
  },
  {
   "cell_type": "code",
   "execution_count": 27,
   "id": "e7f3eaf7",
   "metadata": {
    "scrolled": false
   },
   "outputs": [],
   "source": [
    "#nltk.download('vader_lexicon')\n",
    "#nltk.download('punkt')"
   ]
  },
  {
   "cell_type": "code",
   "execution_count": 28,
   "id": "29ac893f",
   "metadata": {},
   "outputs": [],
   "source": [
    "sid = SentimentIntensityAnalyzer()"
   ]
  },
  {
   "cell_type": "code",
   "execution_count": 32,
   "id": "c8c88e4e",
   "metadata": {},
   "outputs": [
    {
     "data": {
      "text/plain": [
       "['I am very much over joint',\n",
       " 'I am feeling lonely can you suggest me some songs',\n",
       " 'had a bad day with frustrated',\n",
       " 'the weather is good',\n",
       " 'I want to hear some awesome songs']"
      ]
     },
     "execution_count": 32,
     "metadata": {},
     "output_type": "execute_result"
    }
   ],
   "source": [
    "input_list = o\n",
    "input_list"
   ]
  },
  {
   "cell_type": "code",
   "execution_count": 45,
   "id": "e11b6af4",
   "metadata": {},
   "outputs": [
    {
     "name": "stdout",
     "output_type": "stream",
     "text": [
      "['I', 'am', 'very', 'much', 'over', 'joint']\n",
      "{'neg': 0.0, 'neu': 1.0, 'pos': 0.0, 'compound': 0.0}\n",
      "['I', 'am', 'feeling', 'lonely', 'can', 'you', 'suggest', 'me', 'some', 'songs']\n",
      "{'neg': 0.227, 'neu': 0.636, 'pos': 0.136, 'compound': -0.25}\n",
      "['had', 'a', 'bad', 'day', 'with', 'frustrated']\n",
      "{'neg': 0.697, 'neu': 0.303, 'pos': 0.0, 'compound': -0.7845}\n",
      "['the', 'weather', 'is', 'good']\n",
      "{'neg': 0.0, 'neu': 0.508, 'pos': 0.492, 'compound': 0.4404}\n",
      "['I', 'want', 'to', 'hear', 'some', 'awesome', 'songs']\n",
      "{'neg': 0.0, 'neu': 0.426, 'pos': 0.574, 'compound': 0.6597}\n"
     ]
    }
   ],
   "source": [
    "scores = []\n",
    "for i in range(5):\n",
    "    print(word_tokenize(input_list[i]))\n",
    "    scores.append(sid.polarity_scores(input_list[i]))\n",
    "    print(scores[i])"
   ]
  },
  {
   "cell_type": "code",
   "execution_count": 46,
   "id": "08e1a738",
   "metadata": {},
   "outputs": [
    {
     "name": "stdout",
     "output_type": "stream",
     "text": [
      "[{'neg': 0.0, 'neu': 1.0, 'pos': 0.0, 'compound': 0.0}, {'neg': 0.227, 'neu': 0.636, 'pos': 0.136, 'compound': -0.25}, {'neg': 0.697, 'neu': 0.303, 'pos': 0.0, 'compound': -0.7845}, {'neg': 0.0, 'neu': 0.508, 'pos': 0.492, 'compound': 0.4404}, {'neg': 0.0, 'neu': 0.426, 'pos': 0.574, 'compound': 0.6597}]\n",
      "[{'neg': 0.0, 'neu': 1.0, 'pos': 0.0, 'compound': 0.0}, {'neg': 0.227, 'neu': 0.636, 'pos': 0.136, 'compound': -0.25}, {'neg': 0.697, 'neu': 0.303, 'pos': 0.0, 'compound': -0.7845}, {'neg': 0.0, 'neu': 0.508, 'pos': 0.492, 'compound': 0.4404}, {'neg': 0.0, 'neu': 0.426, 'pos': 0.574, 'compound': 0.6597}]\n",
      "[{'neg': 0.0, 'neu': 1.0, 'pos': 0.0, 'compound': 0.0}, {'neg': 0.227, 'neu': 0.636, 'pos': 0.136, 'compound': -0.25}, {'neg': 0.697, 'neu': 0.303, 'pos': 0.0, 'compound': -0.7845}, {'neg': 0.0, 'neu': 0.508, 'pos': 0.492, 'compound': 0.4404}, {'neg': 0.0, 'neu': 0.426, 'pos': 0.574, 'compound': 0.6597}]\n",
      "[{'neg': 0.0, 'neu': 1.0, 'pos': 0.0, 'compound': 0.0}, {'neg': 0.227, 'neu': 0.636, 'pos': 0.136, 'compound': -0.25}, {'neg': 0.697, 'neu': 0.303, 'pos': 0.0, 'compound': -0.7845}, {'neg': 0.0, 'neu': 0.508, 'pos': 0.492, 'compound': 0.4404}, {'neg': 0.0, 'neu': 0.426, 'pos': 0.574, 'compound': 0.6597}]\n",
      "[{'neg': 0.0, 'neu': 1.0, 'pos': 0.0, 'compound': 0.0}, {'neg': 0.227, 'neu': 0.636, 'pos': 0.136, 'compound': -0.25}, {'neg': 0.697, 'neu': 0.303, 'pos': 0.0, 'compound': -0.7845}, {'neg': 0.0, 'neu': 0.508, 'pos': 0.492, 'compound': 0.4404}, {'neg': 0.0, 'neu': 0.426, 'pos': 0.574, 'compound': 0.6597}]\n"
     ]
    }
   ],
   "source": [
    "for i in range(5):\n",
    "    print(scores)"
   ]
  },
  {
   "cell_type": "code",
   "execution_count": 51,
   "id": "cb123b8c",
   "metadata": {},
   "outputs": [
    {
     "data": {
      "text/plain": [
       "{'neg': 0.0, 'neu': 0.426, 'pos': 0.574, 'compound': 0.6597}"
      ]
     },
     "execution_count": 51,
     "metadata": {},
     "output_type": "execute_result"
    }
   ],
   "source": [
    "scores[4]"
   ]
  },
  {
   "cell_type": "code",
   "execution_count": null,
   "id": "b666f4bd",
   "metadata": {},
   "outputs": [],
   "source": [
    "for i in range(5):\n",
    "    if scores[i]['compound'] >= 0.2 and scores[i]['compound']<0.8:\n",
    "        print(\"happy\")\n",
    "    elif scores[i]['compound'] <= -0.2 and scores[i]['compound']>-0.75:\n",
    "        print(\"sad\")\n",
    "    elif scores[i]['compound'] > -0.2 and scores['compound'] < 0.2:\n",
    "        print(\"normal\")\n",
    "    elif scores['compound'] <=-0.75:\n",
    "        print(\"angry\")\n",
    "    else:\n",
    "        print(\"excited\")"
   ]
  },
  {
   "cell_type": "code",
   "execution_count": 24,
   "id": "00f2547a",
   "metadata": {},
   "outputs": [
    {
     "ename": "SyntaxError",
     "evalue": "invalid syntax (1813478373.py, line 1)",
     "output_type": "error",
     "traceback": [
      "\u001b[1;36m  File \u001b[1;32m\"C:\\Users\\arohi\\AppData\\Local\\Temp\\ipykernel_940\\1813478373.py\"\u001b[1;36m, line \u001b[1;32m1\u001b[0m\n\u001b[1;33m    I am very much overjoyed\u001b[0m\n\u001b[1;37m      ^\u001b[0m\n\u001b[1;31mSyntaxError\u001b[0m\u001b[1;31m:\u001b[0m invalid syntax\n"
     ]
    }
   ],
   "source": [
    "I am very much overjoyed\n",
    "i am feeling lonely can you suggest some songs\n",
    "had a bad day bit frustrated\n",
    "The weather is good\n",
    "I want hear some awesome songs"
   ]
  },
  {
   "cell_type": "code",
   "execution_count": null,
   "id": "efa2cfbd",
   "metadata": {},
   "outputs": [],
   "source": []
  }
 ],
 "metadata": {
  "kernelspec": {
   "display_name": "Python 3 (ipykernel)",
   "language": "python",
   "name": "python3"
  },
  "language_info": {
   "codemirror_mode": {
    "name": "ipython",
    "version": 3
   },
   "file_extension": ".py",
   "mimetype": "text/x-python",
   "name": "python",
   "nbconvert_exporter": "python",
   "pygments_lexer": "ipython3",
   "version": "3.9.13"
  }
 },
 "nbformat": 4,
 "nbformat_minor": 5
}
